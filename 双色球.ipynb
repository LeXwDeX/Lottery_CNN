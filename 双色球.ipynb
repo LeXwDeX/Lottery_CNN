{
 "cells": [
  {
   "cell_type": "code",
   "execution_count": 1,
   "id": "f35e3009",
   "metadata": {
    "ExecuteTime": {
     "end_time": "2024-05-13T02:16:02.128271Z",
     "start_time": "2024-05-13T02:16:02.121271Z"
    }
   },
   "outputs": [
    {
     "name": "stderr",
     "output_type": "stream",
     "text": [
      "2024-05-22 03:05:02.383401: I tensorflow/core/util/port.cc:113] oneDNN custom operations are on. You may see slightly different numerical results due to floating-point round-off errors from different computation orders. To turn them off, set the environment variable `TF_ENABLE_ONEDNN_OPTS=0`.\n",
      "2024-05-22 03:05:02.410167: I tensorflow/core/platform/cpu_feature_guard.cc:210] This TensorFlow binary is optimized to use available CPU instructions in performance-critical operations.\n",
      "To enable the following instructions: AVX2 AVX_VNNI FMA, in other operations, rebuild TensorFlow with the appropriate compiler flags.\n",
      "2024-05-22 03:05:02.865763: W tensorflow/compiler/tf2tensorrt/utils/py_utils.cc:38] TF-TRT Warning: Could not find TensorRT\n"
     ]
    }
   ],
   "source": [
    "import pandas as pd\n",
    "import numpy as np\n",
    "from sklearn.preprocessing import LabelBinarizer, MinMaxScaler\n",
    "from tensorflow.keras.models import Sequential\n",
    "from tensorflow.keras.layers import Dense, Input\n",
    "from tensorflow.keras.callbacks import EarlyStopping\n",
    "from keras.optimizers import Adam\n",
    "from tqdm.keras import TqdmCallback"
   ]
  },
  {
   "cell_type": "markdown",
   "id": "409e357f",
   "metadata": {},
   "source": [
    "## 红球模型"
   ]
  },
  {
   "cell_type": "code",
   "execution_count": 2,
   "id": "ac0db2f7",
   "metadata": {
    "ExecuteTime": {
     "end_time": "2024-05-13T02:16:02.159640Z",
     "start_time": "2024-05-13T02:16:02.147638Z"
    }
   },
   "outputs": [],
   "source": [
    "# 红蓝球超参\n",
    "epochs=1000\n",
    "batch_size=10000\n",
    "layer=10\n",
    "\n",
    "# 优化器\n",
    "adam_optimizer = Adam(learning_rate=1.0)"
   ]
  },
  {
   "cell_type": "code",
   "execution_count": 3,
   "id": "4b3c76a6",
   "metadata": {
    "ExecuteTime": {
     "end_time": "2024-05-13T02:16:02.567147Z",
     "start_time": "2024-05-13T02:16:02.161288Z"
    }
   },
   "outputs": [],
   "source": [
    "# 读取数据\n",
    "data = pd.read_excel('双色球.xlsx')\n",
    "input_features = data[['Ball1', 'Ball2', 'Ball3', 'Ball4', 'Ball5', 'Ball6']]\n",
    "\n",
    "# One-Hot编码\n",
    "label_binarizer = LabelBinarizer()\n",
    "label_binarizer.fit(range(1, 34))\n",
    "input_features_one_hot = label_binarizer.transform(input_features.values.flatten()).reshape(-1, 6, 33).sum(axis=1)"
   ]
  },
  {
   "cell_type": "code",
   "execution_count": 4,
   "id": "ff3e1787",
   "metadata": {
    "ExecuteTime": {
     "end_time": "2024-05-13T02:16:02.674325Z",
     "start_time": "2024-05-13T02:16:02.568149Z"
    }
   },
   "outputs": [],
   "source": [
    "# 构建红球模型\n",
    "model = Sequential([\n",
    "    Input(shape=(33,)),\n",
    "    Dense(128, activation='relu'),\n",
    "    *[Dense(64, activation='relu') for _ in range(layer)],\n",
    "    Dense(33, activation='sigmoid')\n",
    "])\n",
    "\n",
    "# 编译红球模型\n",
    "model.compile(optimizer=adam_optimizer, loss='binary_crossentropy', metrics=['accuracy'])"
   ]
  },
  {
   "cell_type": "code",
   "execution_count": 5,
   "id": "679c4215",
   "metadata": {
    "ExecuteTime": {
     "end_time": "2024-05-13T02:16:02.951361Z",
     "start_time": "2024-05-13T02:16:02.677324Z"
    }
   },
   "outputs": [
    {
     "data": {
      "application/vnd.jupyter.widget-view+json": {
       "model_id": "1cc155c458ea46a99244f077f32e061a",
       "version_major": 2,
       "version_minor": 0
      },
      "text/plain": [
       "0epoch [00:00, ?epoch/s]"
      ]
     },
     "metadata": {},
     "output_type": "display_data"
    },
    {
     "data": {
      "application/vnd.jupyter.widget-view+json": {
       "model_id": "3414a3315f6f42f0adc3e74f7dee9ad9",
       "version_major": 2,
       "version_minor": 0
      },
      "text/plain": [
       "0batch [00:00, ?batch/s]"
      ]
     },
     "metadata": {},
     "output_type": "display_data"
    },
    {
     "data": {
      "text/plain": [
       "<keras.src.callbacks.history.History at 0x7f3f2010ab50>"
      ]
     },
     "execution_count": 5,
     "metadata": {},
     "output_type": "execute_result"
    }
   ],
   "source": [
    "# 红球模型训练\n",
    "model.fit(input_features_one_hot, input_features_one_hot, epochs=epochs, batch_size=batch_size,           \n",
    "            verbose=0, callbacks=[TqdmCallback(verbose=1), \n",
    "                                    EarlyStopping(monitor='loss', patience=layer)\n",
    "                                    ])"
   ]
  },
  {
   "cell_type": "code",
   "execution_count": 6,
   "id": "f3f850fa",
   "metadata": {},
   "outputs": [
    {
     "name": "stdout",
     "output_type": "stream",
     "text": [
      "\u001b[1m1/1\u001b[0m \u001b[32m━━━━━━━━━━━━━━━━━━━━\u001b[0m\u001b[37m\u001b[0m \u001b[1m0s\u001b[0m 49ms/step\n"
     ]
    }
   ],
   "source": [
    "# 红球预测\n",
    "predictions = model.predict(input_features_one_hot[-1].reshape(1, -1))\n",
    "predicted_indices = np.argsort(predictions[0])[::-1][:6]  # 选择最高的6个概率\n",
    "predicted_balls = np.array(range(1, 34))[predicted_indices]"
   ]
  },
  {
   "cell_type": "markdown",
   "id": "93184f1f",
   "metadata": {},
   "source": [
    "## 蓝球模型"
   ]
  },
  {
   "cell_type": "code",
   "execution_count": 7,
   "id": "cc2c35a0",
   "metadata": {
    "ExecuteTime": {
     "end_time": "2024-05-13T02:16:02.960367Z",
     "start_time": "2024-05-13T02:16:02.958366Z"
    }
   },
   "outputs": [],
   "source": [
    "# 读取数据\n",
    "data = pd.read_excel('双色球.xlsx')\n",
    "blue_balls = data['BlueBall'].values.reshape(-1, 1)\n",
    "\n",
    "# 归一化\n",
    "scaler = MinMaxScaler(feature_range=(0, 1))\n",
    "blue_balls_scaled = scaler.fit_transform(blue_balls)"
   ]
  },
  {
   "cell_type": "code",
   "execution_count": 11,
   "id": "1d68ae64",
   "metadata": {
    "ExecuteTime": {
     "end_time": "2024-05-13T02:16:02.962365Z",
     "start_time": "2024-05-13T02:16:02.962365Z"
    }
   },
   "outputs": [],
   "source": [
    "# 构建蓝球模型\n",
    "model = Sequential()\n",
    "model.add(Input(shape=(1,)))\n",
    "model.add(Dense(128, activation='relu'))\n",
    "for _ in range(layer):\n",
    "    model.add(Dense(128, activation='relu'))\n",
    "model.add(Dense(1, activation='sigmoid'))  # 输出层，1个输出\n",
    "\n",
    "# 编译建蓝球模型\n",
    "model.compile(loss='mean_squared_error', optimizer='adam')"
   ]
  },
  {
   "cell_type": "code",
   "execution_count": 12,
   "id": "c0c688bd",
   "metadata": {},
   "outputs": [
    {
     "data": {
      "application/vnd.jupyter.widget-view+json": {
       "model_id": "3115c8299afc428492fc376271f21fb7",
       "version_major": 2,
       "version_minor": 0
      },
      "text/plain": [
       "0epoch [00:00, ?epoch/s]"
      ]
     },
     "metadata": {},
     "output_type": "display_data"
    },
    {
     "data": {
      "application/vnd.jupyter.widget-view+json": {
       "model_id": "84df419fd83341caafef5dcac47a0a70",
       "version_major": 2,
       "version_minor": 0
      },
      "text/plain": [
       "0batch [00:00, ?batch/s]"
      ]
     },
     "metadata": {},
     "output_type": "display_data"
    }
   ],
   "source": [
    "# 蓝球模型训练\n",
    "model.fit(blue_balls_scaled, \n",
    "            blue_balls_scaled, \n",
    "            epochs=epochs, \n",
    "            batch_size=batch_size,\n",
    "            verbose=0,\n",
    "            callbacks=[TqdmCallback(verbose=1)]\n",
    "            )"
   ]
  },
  {
   "cell_type": "code",
   "execution_count": null,
   "id": "fdef4b9e",
   "metadata": {
    "ExecuteTime": {
     "end_time": "2024-05-13T02:16:02.977876Z",
     "start_time": "2024-05-13T02:16:02.976875Z"
    }
   },
   "outputs": [],
   "source": [
    "# 蓝球预测\n",
    "prediction = model.predict(blue_balls_scaled[-1].reshape(1, -1))\n",
    "predicted_ball = scaler.inverse_transform(prediction).astype(int)"
   ]
  },
  {
   "cell_type": "markdown",
   "id": "d9cde69d",
   "metadata": {},
   "source": [
    "## 预测结果"
   ]
  },
  {
   "cell_type": "code",
   "execution_count": null,
   "id": "96f9f3ae",
   "metadata": {
    "ExecuteTime": {
     "end_time": "2024-05-13T02:16:02.980876Z",
     "start_time": "2024-05-13T02:16:02.979875Z"
    }
   },
   "outputs": [],
   "source": [
    "# 输出预测结果\n",
    "print('Predicted Red Balls:', predicted_balls)\n",
    "print('Predicted Blue Ball:', predicted_ball.flatten()[0])"
   ]
  }
 ],
 "metadata": {
  "kernelspec": {
   "display_name": "Python 3 (ipykernel)",
   "language": "python",
   "name": "python3"
  },
  "language_info": {
   "codemirror_mode": {
    "name": "ipython",
    "version": 3
   },
   "file_extension": ".py",
   "mimetype": "text/x-python",
   "name": "python",
   "nbconvert_exporter": "python",
   "pygments_lexer": "ipython3",
   "version": "3.11.8"
  }
 },
 "nbformat": 4,
 "nbformat_minor": 5
}

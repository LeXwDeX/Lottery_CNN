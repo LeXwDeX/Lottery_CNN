{
 "cells": [
  {
   "cell_type": "code",
   "execution_count": 10,
   "id": "f35e3009",
   "metadata": {
    "ExecuteTime": {
     "end_time": "2024-08-08T07:50:42.016597Z",
     "start_time": "2024-08-08T07:50:39.538975Z"
    }
   },
   "outputs": [],
   "source": [
    "import pandas as pd\n",
    "import numpy as np\n",
    "from sklearn.preprocessing import LabelBinarizer, MinMaxScaler\n",
    "from tensorflow.keras.models import Sequential\n",
    "from tensorflow.keras.layers import Dense, Input\n",
    "from tensorflow.keras.callbacks import EarlyStopping\n",
    "from keras.optimizers import Adam\n",
    "from tqdm.keras import TqdmCallback"
   ]
  },
  {
   "cell_type": "markdown",
   "id": "409e357f",
   "metadata": {},
   "source": [
    "## Red ball Prediction"
   ]
  },
  {
   "cell_type": "markdown",
   "id": "a23263afc8f5c5a9",
   "metadata": {},
   "source": []
  },
  {
   "cell_type": "code",
   "execution_count": 11,
   "id": "ac0db2f7",
   "metadata": {
    "ExecuteTime": {
     "end_time": "2024-08-08T07:50:42.061380Z",
     "start_time": "2024-08-08T07:50:42.018109Z"
    }
   },
   "outputs": [],
   "source": [
    "# 红球超参\n",
    "epochs      = 1000  # 训练轮数\n",
    "batch_size  = 10    # 批大小\n",
    "layer       = 1000  # 隐藏层大小\n",
    "patience    = 20    # EarlyStopping 的耐心值\n",
    "\n",
    "# 优化器\n",
    "adam_optimizer = Adam(learning_rate=0.0001)"
   ]
  },
  {
   "cell_type": "code",
   "execution_count": 12,
   "id": "4b3c76a6",
   "metadata": {
    "ExecuteTime": {
     "end_time": "2024-08-08T07:50:42.396353Z",
     "start_time": "2024-08-08T07:50:42.063385Z"
    }
   },
   "outputs": [],
   "source": [
    "import openpyxl\n",
    "# 读取数据\n",
    "data = pd.read_excel('双色球.xlsx')\n",
    "input_features = data[['Ball1', 'Ball2', 'Ball3', 'Ball4', 'Ball5', 'Ball6']]\n",
    "\n",
    "# One-Hot编码\n",
    "label_binarizer = LabelBinarizer()\n",
    "label_binarizer.fit(range(1, 34))\n",
    "input_features_one_hot = label_binarizer.transform(input_features.values.flatten()).reshape(-1, 6, 33).sum(axis=1)"
   ]
  },
  {
   "cell_type": "code",
   "execution_count": 13,
   "id": "ff3e1787",
   "metadata": {
    "ExecuteTime": {
     "end_time": "2024-08-08T07:50:42.930398Z",
     "start_time": "2024-08-08T07:50:42.397350Z"
    }
   },
   "outputs": [],
   "source": [
    "# 构建红球模型\n",
    "model = Sequential([\n",
    "    Input(shape=(33,)),                                         # 输入层，输入维度为 33\n",
    "    Dense(128, activation='relu'),                              # 第一隐藏层，128 个神经元，ReLU 激活函数\n",
    "    *[Dense(64, activation='relu') for _ in range(layer)],      # 中间隐藏层，每层 64 个神经元，ReLU 激活函数\n",
    "    Dense(33, activation='sigmoid')                             # 输出层，33 个神经元，Sigmoid 激活函数\n",
    "])\n",
    "\n",
    "# 编译红球模型\n",
    "model.compile(optimizer=adam_optimizer, loss='binary_crossentropy', metrics=['accuracy'])"
   ]
  },
  {
   "cell_type": "code",
   "execution_count": 14,
   "id": "679c4215",
   "metadata": {
    "ExecuteTime": {
     "end_time": "2024-08-08T07:52:11.258905Z",
     "start_time": "2024-08-08T07:50:42.932400Z"
    }
   },
   "outputs": [],
   "source": [
    "# 红球模型训练\n",
    "model.fit(input_features_one_hot,   # 输入特征\n",
    "          input_features_one_hot,   # 输出标签（自编码器的目标是重建输入）\n",
    "          epochs=epochs,            # 训练轮数\n",
    "          batch_size=batch_size,    # 批大小\n",
    "          verbose=0,                # 不显示训练过程\n",
    "          callbacks=[TqdmCallback(verbose=1),  # 显示进度条\n",
    "                     EarlyStopping(monitor='loss', patience=patience)])  # EarlyStopping 回调"
   ]
  },
  {
   "cell_type": "code",
   "execution_count": null,
   "id": "f3f850fa",
   "metadata": {
    "ExecuteTime": {
     "end_time": "2024-08-08T07:52:11.807261Z",
     "start_time": "2024-08-08T07:52:11.265978Z"
    }
   },
   "outputs": [],
   "source": [
    "# 红球预测\n",
    "predictions = model.predict(input_features_one_hot[-1].reshape(1, -1))\n",
    "predicted_indices = np.argsort(predictions[0])[::-1][:6]  # 选择最高的6个概率\n",
    "predicted_balls = np.array(range(1, 34))[predicted_indices]"
   ]
  },
  {
   "cell_type": "markdown",
   "id": "93184f1f",
   "metadata": {},
   "source": [
    "## Blue Ball Prediction"
   ]
  },
  {
   "cell_type": "code",
   "execution_count": null,
   "id": "cc2c35a0",
   "metadata": {
    "ExecuteTime": {
     "end_time": "2024-08-08T07:52:12.020207Z",
     "start_time": "2024-08-08T07:52:11.807941Z"
    }
   },
   "outputs": [],
   "source": [
    "# 读取数据\n",
    "data = pd.read_excel('双色球.xlsx')\n",
    "blue_balls = data['BlueBall'].values.reshape(-1, 1)\n",
    "\n",
    "# 归一化\n",
    "scaler = MinMaxScaler(feature_range=(0, 1))\n",
    "blue_balls_scaled = scaler.fit_transform(blue_balls)"
   ]
  },
  {
   "cell_type": "code",
   "execution_count": null,
   "id": "1d68ae64",
   "metadata": {
    "ExecuteTime": {
     "end_time": "2024-08-08T07:52:14.378459Z",
     "start_time": "2024-08-08T07:52:12.021724Z"
    }
   },
   "outputs": [],
   "source": [
    "# 构建蓝球模型\n",
    "model = Sequential()\n",
    "model.add(Input(shape=(1,)))\n",
    "model.add(Dense(128, activation='relu'))\n",
    "for _ in range(layer):\n",
    "    model.add(Dense(128, activation='relu'))\n",
    "model.add(Dense(1, activation='sigmoid'))  # 输出层，1个输出\n",
    "\n",
    "# 编译建蓝球模型\n",
    "model.compile(loss='mean_squared_error', optimizer='adam')"
   ]
  },
  {
   "cell_type": "code",
   "execution_count": null,
   "id": "c0c688bd",
   "metadata": {
    "ExecuteTime": {
     "end_time": "2024-08-08T07:53:36.950305Z",
     "start_time": "2024-08-08T07:52:14.379965Z"
    }
   },
   "outputs": [],
   "source": [
    "# 蓝球模型训练\n",
    "model.fit(blue_balls_scaled, \n",
    "            blue_balls_scaled, \n",
    "            epochs=epochs, \n",
    "            batch_size=batch_size,\n",
    "            verbose=0,\n",
    "            callbacks=[TqdmCallback(verbose=1), EarlyStopping(monitor='loss', patience=patience)]\n",
    "            )"
   ]
  },
  {
   "cell_type": "code",
   "execution_count": null,
   "id": "fdef4b9e",
   "metadata": {
    "ExecuteTime": {
     "end_time": "2024-08-08T07:53:37.496334Z",
     "start_time": "2024-08-08T07:53:36.952309Z"
    }
   },
   "outputs": [],
   "source": [
    "# 蓝球预测\n",
    "prediction = model.predict(blue_balls_scaled[-1].reshape(1, -1))\n",
    "predicted_ball = scaler.inverse_transform(prediction).astype(int)"
   ]
  },
  {
   "cell_type": "markdown",
   "id": "d9cde69d",
   "metadata": {},
   "source": [
    "## 预测结果"
   ]
  },
  {
   "cell_type": "code",
   "execution_count": null,
   "id": "96f9f3ae",
   "metadata": {
    "ExecuteTime": {
     "end_time": "2024-08-08T07:53:37.511613Z",
     "start_time": "2024-08-08T07:53:37.498089Z"
    }
   },
   "outputs": [],
   "source": [
    "# 输出预测结果\n",
    "print('Predicted Red Balls:', predicted_balls)\n",
    "print('Predicted Blue Ball:', predicted_ball.flatten()[0])"
   ]
  }
 ],
 "metadata": {
  "kernelspec": {
   "display_name": "Python 3 (ipykernel)",
   "language": "python",
   "name": "python3"
  }
 },
 "nbformat": 4,
 "nbformat_minor": 5
}
